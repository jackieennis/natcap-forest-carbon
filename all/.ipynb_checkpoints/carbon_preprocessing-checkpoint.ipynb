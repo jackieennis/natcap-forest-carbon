{
 "cells": [
  {
   "cell_type": "code",
   "execution_count": 43,
   "metadata": {},
   "outputs": [],
   "source": [
    "# TODO:\n",
    "# put everything into one function that loads raster, resamples, and prints out a csv and df\n",
    "# visualize in QGIS - are rasters correct?\n",
    "# clean up comments\n"
   ]
  },
  {
   "cell_type": "code",
   "execution_count": 44,
   "metadata": {},
   "outputs": [],
   "source": [
    "import sys\n",
    "import os\n",
    "import subprocess\n",
    "import datetime\n",
    "import pandas as pd\n",
    "import numpy as np\n",
    "import pygeoprocessing\n",
    "import matplotlib.pyplot as plt\n",
    "from osgeo import gdal"
   ]
  },
  {
   "cell_type": "markdown",
   "metadata": {},
   "source": [
    "# Utility functions"
   ]
  },
  {
   "cell_type": "code",
   "execution_count": 103,
   "metadata": {},
   "outputs": [],
   "source": [
    "def print_start_time(message=\"\"):\n",
    "    \"\"\"Prints out start time of a process.\n",
    "    \n",
    "    Keyword arguments:\n",
    "    message -- (optional) custom message indicating what process is running\n",
    "    \"\"\"\n",
    "    print(message)\n",
    "    print(\"Start time:\", datetime.datetime.now())\n",
    "    \n",
    "# TODO: change input to a path \n",
    "def get_raster_resolution(raster_path):\n",
    "    \"\"\"Prints out dimensions of raster. \n",
    "    Returns pixel dimensions in tuple (pixelSizeX, pixelSizeY).\n",
    "    \n",
    "    Keyword arguments:\n",
    "    raster -- GDAL-loaded raster to measure\n",
    "    \"\"\"\n",
    "    # NOTE: GetGeoTransform fetches the coefficients for transforming between \n",
    "    # pixel/line (P,L) raster space, and projection coordinates (Xp,Yp) space.\n",
    "    # Xp = padfTransform[0] + P*padfTransform[1] + L*padfTransform[2];\n",
    "    # Yp = padfTransform[3] + P*padfTransform[4] + L*padfTransform[5];\n",
    "    \n",
    "    raster = gdal.Open(raster_path)\n",
    "    print(raster_path)\n",
    "    \n",
    "    gt = raster.GetGeoTransform()\n",
    "    \n",
    "    pixelSizeX = gt[1]\n",
    "    pixelSizeY =-gt[5]\n",
    "    pixelDims = (pixelSizeX, pixelSizeY)\n",
    "    \n",
    "    print(\"Where (pixelSizeX, pixelSizeY) is\", pixelDims)\n",
    "    \n",
    "    return pixelDims\n",
    "\n",
    "def resample_raster_to_resolution(raster_src_path, xres, yres, resampled_dest_path=None):\n",
    "    \"\"\"Uses gdalwarp to resample raster via averaging to the given resolution. \n",
    "    \n",
    "    Keyword arguments:\n",
    "    raster_src_path -- (dtype: string) file path to raster to resample\n",
    "    xres -- (dtype: int) desired x-resolution\n",
    "    yres -- (dtype: int) desired y-resolution\n",
    "    \"\"\"\n",
    "    if not resampled_dest_path:\n",
    "        # Get base filename without extension\n",
    "        filename = os.path.basename(raster_src_path)[:-4]\n",
    "\n",
    "        # Denote resolution of 5 arcmin to file name; alternatively, call it _resampled    \n",
    "        resampled_dest_path = os.path.join(OUTPUT_DIR, filename + \"_5m.tif\")\n",
    "\n",
    "    # Can specify different resampling method (-r) depending on purpose\n",
    "    args = ['gdalwarp', '-tr', str(xres), str(yres), '-tap', '-r', 'average', raster_src_path, resampled_dest_path]\n",
    "    \n",
    "    # TODO: check projection by loading in QGIS; look at resample_raster in nutrition code; mask NoData values\n",
    "    \n",
    "    print(\"Resampling raster file...start time:\", datetime.datetime.now())\n",
    "    \n",
    "    try:\n",
    "        # Call system command to run GDAL resampling\n",
    "        process = subprocess.check_output(args)\n",
    "    except:\n",
    "        print(\"The file name: [\", resampled_dest_path, \"] already exists.\")\n",
    "    \n",
    "    return resampled_dest_path\n",
    "\n",
    "def resample_folder(dir_path, desired_resolution, res_tag):\n",
    "    \"\"\"Resamples all rasters in a given directory to the desired resolution. \n",
    "    \n",
    "    Keyword arguments:\n",
    "    dir_path -- (dtype: string) file path to raster to resample\n",
    "    desired_resolution -- (dtype: int) tuple of resolution to resample to \n",
    "                            in the form (x_resolution, y_resolution)\n",
    "    res_tag -- (dtype: string) tag to append to new file name to denote new resolution \n",
    "    \"\"\"\n",
    "    raster_files = os.listdir(dir_path)\n",
    "\n",
    "    print_start_time(\"Resampling carbon rasters...\")\n",
    "    for filename in abg_biomass_files:\n",
    "        raster_name = filename[:-4]\n",
    "        extension = filename[-4:]\n",
    "        if extension == '.tif':\n",
    "        # TODO: add check that resampled raster doesn't already exist\n",
    "            src_path = os.path.join(dir_path, filename)\n",
    "            dest_path = os.path.join(OUTPUT_DIR, \n",
    "                                     CARBON_BIOMASS_FOLDER+res_tag, \n",
    "                                     raster_name+res_tag+extension)\n",
    "            try:\n",
    "                resample_raster_to_resolution(src_path, \n",
    "                                          desired_resolution[0], \n",
    "                                          desired_resolution[1], \n",
    "                                          resampled_dest_path=dest_path)\n",
    "                print(\"Successfully resampled raster:\", raster_name)\n",
    "                get_raster_resolution(dest_path)\n",
    "            except:\n",
    "                print(\"Resampled raster:\", raster_name+resolution_tag, \"already exists. Trying next one...\")\n",
    "    \n",
    "def convert_raster_to_xyz(raster_src_path):\n",
    "    \"\"\"Converts given raster to .xyz format using gdal_translate.\n",
    "    \n",
    "    Keyword arguments:\n",
    "    raster_src_path -- (dtype: string) file path to .tif file to convert\n",
    "    \"\"\"\n",
    "    \n",
    "    # Remove 3-letter tif extension, replace with XYZ extension\n",
    "    filename = os.path.basename(raster_src_path)[:-4]\n",
    "    xyz_filename = ('{}.xyz').format(filename)\n",
    "    \n",
    "    xyz_dest_path = os.path.join(OUTPUT_DIR, xyz_filename)\n",
    "    \n",
    "    # Arguments for GDAL translation\n",
    "    args = [\"gdal_translate\", raster_src_path, xyz_dest_path, \"-co\", \"ADD_HEADER_LINE=YES\", \"-co\", \"COMPRESS=LZW\"]\n",
    "    \n",
    "    print(\"Now converting raster into XYZ format...start time:\", datetime.datetime.now())\n",
    "    \n",
    "    # Call system command to run GDAL translation\n",
    "    process = subprocess.check_output(args)\n",
    "    \n",
    "    print(\"Saved new XYZ file to\", xyz_dest_path)\n",
    "    return xyz_dest_path\n",
    "\n",
    "def convert_xyz_to_df(xyz_src_path, value_col_name):\n",
    "    \"\"\"Reads XYZ file into a dataframe with columns {\"index\", \"pixel_id\", \"lat\", \"long\", \"value\"},\n",
    "    where \"pixel_id\" is a string concatenation of the coordinates.\n",
    "    Returns this dataframe. \n",
    "    \n",
    "    Keyword arguments:\n",
    "    xyz_src_path -- (dtype: string) file path to .xyz file to read in\n",
    "    \"\"\"\n",
    "    \n",
    "    print(\"Now reading file into dataframe...start time:\", datetime.datetime.now())\n",
    "    df = pd.read_csv(xyz_src_path, delimiter=' ')\n",
    "    df.index.name = 'index'\n",
    "    df.rename(columns={'X': 'lat', 'Y': 'long', 'Z': value_col_name}, inplace=True)\n",
    "    \n",
    "    df['pixel_id'] = (\"\" + \n",
    "                    df['lat'].round(4).astype(str) + \n",
    "                    \",\" + \n",
    "                    df['long'].round(4).astype(str))\n",
    "\n",
    "    return df\n",
    "\n",
    "def convert_raster_to_df(tif_src_path, csv_save_path, value_col_name=\"value\"):\n",
    "    \"\"\"Reads a raster file into a dataframe with columns {\"index\", \"pixel_id\", \"lat\", \"long\", \"value\"}.\n",
    "    Saves this dataframe in csv format. \n",
    "    Returns this dataframe. \n",
    "    \n",
    "    Keyword arguments:\n",
    "    tif_src_path -- (dtype: string) file path to raster file to read in\n",
    "    \"\"\"\n",
    "    xyz_dest_path = convert_raster_to_xyz(tif_src_path)\n",
    "    new_df = convert_xyz_to_df(xyz_dest_path, value_col_name)\n",
    "    \n",
    "    print_start_time(\"Finally, saving dataframe to csv...\")\n",
    "    new_df.to_csv(csv_save_path)\n",
    "    \n",
    "    # TODO: delete intermediate XYZ file after use\n",
    "    \n",
    "    return new_df\n",
    "\n",
    "## TODO: write wrapper function\n",
    "## def resample_and_convert_to_csv():\n",
    "    \"\"\"Wrapper function to take in a raster file, resample it to the desired resolution, \n",
    "    read it into a dataframe, and save it to a csv file.\n",
    "    \"\"\"\n",
    "    \n",
    "# TODO: This still doesn't really work without pulling up the terminal. Why?? \n",
    "def merge_rasters(dir_of_rasters):\n",
    "    \"\"\"Merges list of rasters into one raster.\n",
    "    \n",
    "    Keyword arguments:\n",
    "    dir_of_rasters -- (dtype: string) file path to directory containing all rasters to be merged\n",
    "    \"\"\"\n",
    "    \n",
    "    # gdalbuildvrt mosaic.vrt c:\\data\\....\\*.tif\n",
    "    # gdal_translate -of GTiff -co \"COMPRESS=JPEG\" -co \"PHOTOMETRIC=YCBCR\" -co \"TILED=YES\" mosaic.vrt mosaic.tif\n",
    "\n",
    "    raster_list = os.listdir(dir_of_rasters)\n",
    "    num_files = len(raster_list)\n",
    "    \n",
    "    vrt_name = os.path.basename(dir_of_rasters)+'.vrt'\n",
    "    file_space = os.path.join(dir_of_rasters, '*.tif')\n",
    "    builtvrt_args = ['gdalbuildvrt', vrt_name, file_space, '-overwrite']\n",
    "    print(builtvrt_args)\n",
    "    print(\"Merging \"+str(num_files)+\" files into virtual raster...\", datetime.datetime.now())\n",
    "    \n",
    "    try:\n",
    "        buildvrt_process = subprocess.check_output(builtvrt_args)\n",
    "        print(\"Built\", vrt_name, \"successfully!\")\n",
    "    except subprocess.CalledProcessError as e:\n",
    "        print(e.output)\n",
    "        print(\"Building virtual raster failed.\")\n",
    "    \n",
    "    tif_name =  dir_of_rasters+'.tif'\n",
    "    translate_args = ['gdal_translate', '-of', 'GTiff', vrt_name, tif_name]\n",
    "    print(translate_args)\n",
    "    print(\"Merging virtual raster into true raster...\", datetime.datetime.now())\n",
    "\n",
    "    try:\n",
    "        translate_process = subprocess.check_output(translate_args)\n",
    "        print(\"Merged rasters successfully!\")\n",
    "    except subprocess.CalledProcessError as e:\n",
    "        print(e.output)\n",
    "        print(\"Merging rasters failed.\")\n"
   ]
  },
  {
   "cell_type": "code",
   "execution_count": 46,
   "metadata": {},
   "outputs": [],
   "source": [
    " \"\"\"DATASET CLASS\n",
    "    Keeps track of the various locations and format of the data for scalable access and reuse. \n",
    "    \"\"\"\n",
    "class Dataset:\n",
    "    def __init__(self, metric, basefile, path_to_raster):\n",
    "        self.metric = metric\n",
    "        self.basefile = basefile\n",
    "        self.path_to_raster = path_to_raster\n",
    "        self.resolution = get_raster_resolution(path_to_raster)\n",
    "        \n",
    "        self.path_to_csv = os.path.join(OUTPUT_DIR, basefile+\".csv\") \n",
    "        if os.path.exists(self.path_to_csv):\n",
    "            print_start_time(\"Loading dataframe from\" + str(self.path_to_csv))\n",
    "            self.dataframe = pd.read_csv(self.path_to_csv)\n",
    "        else:\n",
    "            self.dataframe = convert_raster_to_df(path_to_raster, self.path_to_csv, metric)\n",
    "        \n",
    "    def get_resolution(self):\n",
    "        print(self.resolution)\n",
    "        return self.resolution\n",
    "        "
   ]
  },
  {
   "cell_type": "markdown",
   "metadata": {},
   "source": [
    "# Main processes"
   ]
  },
  {
   "cell_type": "markdown",
   "metadata": {},
   "source": [
    "## Preparing the datasets for analysis - loading, resampling, and merging"
   ]
  },
  {
   "cell_type": "code",
   "execution_count": 17,
   "metadata": {},
   "outputs": [],
   "source": [
    "# Define working directories\n",
    "NAT_CAP_DIR = '/Users/jackieennis/Google Drive/Classes/Active Classes/Impact Lab/Carbon Students Project'\n",
    "CARBON_DATA_DIR = os.path.join(NAT_CAP_DIR, 'Carbon/Data')\n",
    "OUTPUT_DIR = os.path.join(NAT_CAP_DIR, 'Outputs')\n",
    "PEOPLE_DIR = os.path.join(NAT_CAP_DIR, 'People')\n",
    "\n",
    "# To access 'Carbon' data\n",
    "CARBON_BIOMASS_FOLDER = 'GFW_ALWBD_2000'\n",
    "BIOMASS_DIR = os.path.join(CARBON_DATA_DIR, CARBON_BIOMASS_FOLDER)"
   ]
  },
  {
   "cell_type": "code",
   "execution_count": 19,
   "metadata": {},
   "outputs": [
    {
     "name": "stdout",
     "output_type": "stream",
     "text": [
      "/Users/jackieennis/Google Drive/Classes/Active Classes/Impact Lab/Carbon Students Project/People/Distance_to_market/minutes_to_market_5m.tif\n",
      "Where (pixelSizeX, pixelSizeY) is (0.083333333333333, 0.083333333333333)\n"
     ]
    }
   ],
   "source": [
    "# Find desired resolution for 5 arcmins\n",
    "raster_example_5m = os.path.join(PEOPLE_DIR, 'Distance_to_market/minutes_to_market_5m.tif')\n",
    "(Xres, Yres) = get_raster_resolution(raster_example_5m)"
   ]
  },
  {
   "cell_type": "markdown",
   "metadata": {},
   "source": [
    "### Resampling the data to 5 arcmins"
   ]
  },
  {
   "cell_type": "markdown",
   "metadata": {},
   "source": [
    "#### CARBON DATA\n",
    "** NOTE: Resampled / merged carbon raster created in Terminal to fix bugs with individual raster components."
   ]
  },
  {
   "cell_type": "code",
   "execution_count": 45,
   "metadata": {},
   "outputs": [],
   "source": [
    "# List of carbon files\n",
    "abg_biomass_files = os.listdir(BIOMASS_DIR)\n",
    "desired_resolution = (Xres, Yres)\n",
    "resolution_tag = \"_5m\"\n",
    "\n",
    "# Resample all the carbon files to 5 arcmins\n",
    "resample_folder(BIOMASS_DIR, desired_resolution, resolution_tag)"
   ]
  },
  {
   "cell_type": "code",
   "execution_count": 58,
   "metadata": {},
   "outputs": [
    {
     "name": "stdout",
     "output_type": "stream",
     "text": [
      "['gdalbuildvrt', 'GFW_ALWBD_2000_5m.vrt', '/Users/jackieennis/Google Drive/Classes/Active Classes/Impact Lab/Carbon Students Project/Carbon/Outputs/GFW_ALWBD_2000_5m/*.tif', '-overwrite']\n",
      "Merging 281 files into virtual raster... 2019-05-23 02:22:01.357704\n",
      "b'0...10...20...30...40...50...60...70...80...90...100 - done.\\n'\n",
      "Building virtual raster failed.\n",
      "['gdal_translate', '-of', 'GTiff', 'GFW_ALWBD_2000_5m.vrt', '/Users/jackieennis/Google Drive/Classes/Active Classes/Impact Lab/Carbon Students Project/Carbon/Outputs/GFW_ALWBD_2000_5m.tif']\n",
      "Merging virtual raster into true raster... 2019-05-23 02:22:01.409168\n",
      "b''\n",
      "Merging rasters failed.\n"
     ]
    }
   ],
   "source": [
    "# Merge resampled carbon files into one raster\n",
    "carbon_raster_dir = os.path.join(OUTPUT_DIR, \"GFW_ALWBD_2000_5m\")\n",
    "merge_rasters(carbon_raster_dir)"
   ]
  },
  {
   "cell_type": "code",
   "execution_count": 24,
   "metadata": {},
   "outputs": [
    {
     "name": "stdout",
     "output_type": "stream",
     "text": [
      "/Users/jackieennis/Google Drive/Classes/Active Classes/Impact Lab/Carbon Students Project/Outputs/GFW_ALWBD_2000_5m.tif\n",
      "Where (pixelSizeX, pixelSizeY) is (0.08333333333333247, 0.08333333333333247)\n",
      "Loading dataframe from/Users/jackieennis/Google Drive/Classes/Active Classes/Impact Lab/Carbon Students Project/Outputs/GFW_ALWBD_2000_5m.csv\n",
      "Start time: 2019-06-11 17:34:19.560343\n"
     ]
    }
   ],
   "source": [
    "# Check that merged and resampled carbon raster has correct resolution\n",
    "carbon_raster_path = os.path.join(OUTPUT_DIR, \"GFW_ALWBD_2000_5m.tif\")\n",
    "carbon_5m = Dataset(metric=\"carbon\", \n",
    "                   basefile=\"GFW_ALWBD_2000_5m\",\n",
    "                   path_to_raster = carbon_raster_path)"
   ]
  },
  {
   "cell_type": "code",
   "execution_count": 25,
   "metadata": {},
   "outputs": [
    {
     "data": {
      "text/html": [
       "<div>\n",
       "<style scoped>\n",
       "    .dataframe tbody tr th:only-of-type {\n",
       "        vertical-align: middle;\n",
       "    }\n",
       "\n",
       "    .dataframe tbody tr th {\n",
       "        vertical-align: top;\n",
       "    }\n",
       "\n",
       "    .dataframe thead th {\n",
       "        text-align: right;\n",
       "    }\n",
       "</style>\n",
       "<table border=\"1\" class=\"dataframe\">\n",
       "  <thead>\n",
       "    <tr style=\"text-align: right;\">\n",
       "      <th></th>\n",
       "      <th>index</th>\n",
       "      <th>lat</th>\n",
       "      <th>long</th>\n",
       "      <th>carbon</th>\n",
       "      <th>pixel_id</th>\n",
       "    </tr>\n",
       "  </thead>\n",
       "  <tbody>\n",
       "    <tr>\n",
       "      <th>0</th>\n",
       "      <td>0</td>\n",
       "      <td>-179.958333</td>\n",
       "      <td>79.958333</td>\n",
       "      <td>0</td>\n",
       "      <td>-179.9583,79.9583</td>\n",
       "    </tr>\n",
       "    <tr>\n",
       "      <th>1</th>\n",
       "      <td>1</td>\n",
       "      <td>-179.875000</td>\n",
       "      <td>79.958333</td>\n",
       "      <td>0</td>\n",
       "      <td>-179.875,79.9583</td>\n",
       "    </tr>\n",
       "    <tr>\n",
       "      <th>2</th>\n",
       "      <td>2</td>\n",
       "      <td>-179.791667</td>\n",
       "      <td>79.958333</td>\n",
       "      <td>0</td>\n",
       "      <td>-179.7917,79.9583</td>\n",
       "    </tr>\n",
       "    <tr>\n",
       "      <th>3</th>\n",
       "      <td>3</td>\n",
       "      <td>-179.708333</td>\n",
       "      <td>79.958333</td>\n",
       "      <td>0</td>\n",
       "      <td>-179.7083,79.9583</td>\n",
       "    </tr>\n",
       "    <tr>\n",
       "      <th>4</th>\n",
       "      <td>4</td>\n",
       "      <td>-179.625000</td>\n",
       "      <td>79.958333</td>\n",
       "      <td>0</td>\n",
       "      <td>-179.625,79.9583</td>\n",
       "    </tr>\n",
       "  </tbody>\n",
       "</table>\n",
       "</div>"
      ],
      "text/plain": [
       "   index         lat       long  carbon           pixel_id\n",
       "0      0 -179.958333  79.958333       0  -179.9583,79.9583\n",
       "1      1 -179.875000  79.958333       0   -179.875,79.9583\n",
       "2      2 -179.791667  79.958333       0  -179.7917,79.9583\n",
       "3      3 -179.708333  79.958333       0  -179.7083,79.9583\n",
       "4      4 -179.625000  79.958333       0   -179.625,79.9583"
      ]
     },
     "execution_count": 25,
     "metadata": {},
     "output_type": "execute_result"
    }
   ],
   "source": [
    "carbon_5m.dataframe.head()"
   ]
  },
  {
   "cell_type": "markdown",
   "metadata": {},
   "source": [
    "#### NIGHTTIME LIGHTS"
   ]
  },
  {
   "cell_type": "code",
   "execution_count": 130,
   "metadata": {},
   "outputs": [
    {
     "name": "stdout",
     "output_type": "stream",
     "text": [
      "Resampling raster file...start time: 2019-06-12 07:14:38.094758\n"
     ]
    },
    {
     "data": {
      "text/plain": [
       "'/Users/jackieennis/Google Drive/Classes/Active Classes/Impact Lab/Carbon Students Project/Outputs/nighttime_lights_5m.tif'"
      ]
     },
     "execution_count": 130,
     "metadata": {},
     "output_type": "execute_result"
    }
   ],
   "source": [
    "# Resample raster of average nighttime lights to 5m\n",
    "# Original data is in 30 arc sec\n",
    "# TODO: Would like to one day keep raster in 30s\n",
    "path_to_nighttime_lights = os.path.join(\n",
    "                                PEOPLE_DIR, \n",
    "                                \"nighttime_lights\",\n",
    "                                \"avg_lights_x_pct\",\n",
    "                                \"F152000.v4b.avg_lights_x_pct.tif\")\n",
    "resample_raster_to_resolution(path_to_nighttime_lights, \n",
    "                              Xres, Yres, \n",
    "                              resampled_dest_path=os.path.join(OUTPUT_DIR, 'nighttime_lights_5m.tif'))"
   ]
  },
  {
   "cell_type": "markdown",
   "metadata": {},
   "source": [
    "#### POPULATION DENSITY"
   ]
  },
  {
   "cell_type": "code",
   "execution_count": 104,
   "metadata": {},
   "outputs": [
    {
     "name": "stdout",
     "output_type": "stream",
     "text": [
      "Resampling raster file...start time: 2019-06-12 06:39:46.710543\n"
     ]
    },
    {
     "data": {
      "text/plain": [
       "'/Users/jackieennis/Google Drive/Classes/Active Classes/Impact Lab/Carbon Students Project/Outputs/pop_density_5m.tif'"
      ]
     },
     "execution_count": 104,
     "metadata": {},
     "output_type": "execute_result"
    }
   ],
   "source": [
    "# Resample raster of population density to 5m\n",
    "# Original data is in 30 arc sec\n",
    "# TODO: Would like to one day keep raster in 30s\n",
    "\n",
    "path_to_pop_dens = os.path.join(PEOPLE_DIR,\n",
    "                            'adjusted_pop',\n",
    "                            'gpw_v4_population_density_adjusted_30_sec.tif')\n",
    "\n",
    "resample_raster_to_resolution(path_to_pop_dens, \n",
    "                              Xres, Yres, \n",
    "                              resampled_dest_path=os.path.join(OUTPUT_DIR, 'pop_density_5m.tif'))"
   ]
  },
  {
   "cell_type": "markdown",
   "metadata": {},
   "source": [
    "#### INFANT MORTALITY"
   ]
  },
  {
   "cell_type": "code",
   "execution_count": 107,
   "metadata": {},
   "outputs": [
    {
     "name": "stdout",
     "output_type": "stream",
     "text": [
      "Resampling raster file...start time: 2019-06-12 06:56:16.195137\n"
     ]
    },
    {
     "data": {
      "text/plain": [
       "'/Users/jackieennis/Google Drive/Classes/Active Classes/Impact Lab/Carbon Students Project/Outputs/infant_mortality_5m.tif'"
      ]
     },
     "execution_count": 107,
     "metadata": {},
     "output_type": "execute_result"
    }
   ],
   "source": [
    "# Resample raster of infant mortality to 5m\n",
    "# Original data is in 2.5 arc min (?)\n",
    "# TODO: Would like to one day keep raster in 2.5m\n",
    "\n",
    "path_to_imr = os.path.join(PEOPLE_DIR,\n",
    "                            'global_subnational_infant_mortality_rates',\n",
    "                            '2015_v2',\n",
    "                            'povmap_global_subnational_infant_mortality_rates_v2.tif')\n",
    "\n",
    "resample_raster_to_resolution(path_to_imr, \n",
    "                              Xres, Yres, \n",
    "                              resampled_dest_path=os.path.join(OUTPUT_DIR, 'infant_mortality_5m.tif'))"
   ]
  },
  {
   "cell_type": "markdown",
   "metadata": {},
   "source": [
    "#### SOIL WATER CAPACITY"
   ]
  },
  {
   "cell_type": "code",
   "execution_count": 164,
   "metadata": {},
   "outputs": [
    {
     "name": "stdout",
     "output_type": "stream",
     "text": [
      "Resampling raster file...start time: 2019-06-13 00:38:46.006767\n"
     ]
    },
    {
     "data": {
      "text/plain": [
       "'/Users/jackieennis/Google Drive/Classes/Active Classes/Impact Lab/Carbon Students Project/Outputs/soil_water_5m.tif'"
      ]
     },
     "execution_count": 164,
     "metadata": {},
     "output_type": "execute_result"
    }
   ],
   "source": [
    "# Resample raster of soil water capacity to 5m, even though it might already be in 5m\n",
    "\n",
    "path_to_soil = os.path.join(CARBON_DATA_DIR,\n",
    "                            'soil_water_capacity',\n",
    "                            'soil_water_capacity.tif')\n",
    "\n",
    "resample_raster_to_resolution(path_to_soil, \n",
    "                              Xres, Yres, \n",
    "                              resampled_dest_path=os.path.join(OUTPUT_DIR, 'soil_water_5m.tif'))"
   ]
  },
  {
   "cell_type": "markdown",
   "metadata": {},
   "source": [
    "#### HUMAN FOOTPRINT"
   ]
  },
  {
   "cell_type": "code",
   "execution_count": 171,
   "metadata": {},
   "outputs": [
    {
     "name": "stdout",
     "output_type": "stream",
     "text": [
      "/Users/jackieennis/Google Drive/Classes/Active Classes/Impact Lab/Carbon Students Project/People/human_footprint/wildareas-v3-2009-human-footprint.tif\n",
      "Resampling raster file...start time: 2019-06-13 12:08:21.835673\n",
      "The file name: [ /Users/jackieennis/Google Drive/Classes/Active Classes/Impact Lab/Carbon Students Project/Outputs/human_footprint_5m.tif ] already exists.\n"
     ]
    },
    {
     "data": {
      "text/plain": [
       "'/Users/jackieennis/Google Drive/Classes/Active Classes/Impact Lab/Carbon Students Project/Outputs/human_footprint_5m.tif'"
      ]
     },
     "execution_count": 171,
     "metadata": {},
     "output_type": "execute_result"
    }
   ],
   "source": [
    "# Resample raster of pasture land to 5m\n",
    "                                   \n",
    "path_to_footprint = os.path.join(PEOPLE_DIR,\n",
    "                            'human_footprint',\n",
    "                            'wildareas-v3-2009-human-footprint.tif')\n",
    "print(path_to_footprint)\n",
    "\n",
    "resample_raster_to_resolution(path_to_footprint, \n",
    "                              Xres, Yres, \n",
    "                              resampled_dest_path=os.path.join(OUTPUT_DIR, 'human_footprint_5m.tif'))\n"
   ]
  },
  {
   "cell_type": "markdown",
   "metadata": {},
   "source": [
    "#### PASTURES"
   ]
  },
  {
   "cell_type": "code",
   "execution_count": 155,
   "metadata": {},
   "outputs": [
    {
     "name": "stdout",
     "output_type": "stream",
     "text": [
      "/Users/jackieennis/Google Drive/Classes/Active Classes/Impact Lab/Carbon Students Project/People/pastures/pasture.tif\n",
      "Resampling raster file...start time: 2019-06-12 13:08:18.611687\n"
     ]
    },
    {
     "data": {
      "text/plain": [
       "'/Users/jackieennis/Google Drive/Classes/Active Classes/Impact Lab/Carbon Students Project/Outputs/pasture_5m.tif'"
      ]
     },
     "execution_count": 155,
     "metadata": {},
     "output_type": "execute_result"
    }
   ],
   "source": [
    "# Resample raster of pasture land to 5m\n",
    "                                   \n",
    "path_to_pastures = os.path.join(PEOPLE_DIR,\n",
    "                            'pastures',\n",
    "                            'pasture.tif')\n",
    "print(path_to_pastures)\n",
    "\n",
    "resample_raster_to_resolution(path_to_pastures, \n",
    "                              Xres, Yres, \n",
    "                              resampled_dest_path=os.path.join(OUTPUT_DIR, 'pasture_5m.tif'))\n"
   ]
  },
  {
   "cell_type": "markdown",
   "metadata": {},
   "source": [
    "### Loading in data as Dataset class member"
   ]
  },
  {
   "cell_type": "markdown",
   "metadata": {},
   "source": [
    "#### MINUTES TO MARKET"
   ]
  },
  {
   "cell_type": "code",
   "execution_count": 6,
   "metadata": {},
   "outputs": [
    {
     "name": "stdout",
     "output_type": "stream",
     "text": [
      "/Users/jackieennis/Google Drive/Classes/Active Classes/Impact Lab/Carbon Students Project/People/Distance_to_market/minutes_to_market_5m.tif\n",
      "Geotransform is (-180.0, 0.083333333333333, 0.0, 89.99999999928002, 0.0, -0.083333333333333)\n",
      "Where (pixelSizeX, pixelSizeY) is (0.083333333333333, 0.083333333333333)\n"
     ]
    }
   ],
   "source": [
    "# Accessibility (minutes) to market\n",
    "market_dist_5m = Dataset(metric=\"mins_to_market\",\n",
    "                          basefile=\"minutes_to_market_5m\",\n",
    "                          path_to_raster=os.path.join(PEOPLE_DIR, 'Distance_to_market/minutes_to_market_5m.tif'))"
   ]
  },
  {
   "cell_type": "markdown",
   "metadata": {},
   "source": [
    "#### MARKET INFLUENCE"
   ]
  },
  {
   "cell_type": "code",
   "execution_count": 9,
   "metadata": {},
   "outputs": [
    {
     "name": "stdout",
     "output_type": "stream",
     "text": [
      "/Users/jackieennis/Google Drive/Classes/Active Classes/Impact Lab/Carbon Students Project/People/market_influence_v2/mkt_infind_5m/hdr.adf\n",
      "Geotransform is (-180.0, 0.08333333333333329, 0.0, 89.99999999999989, 0.0, -0.08333333333333329)\n",
      "Where (pixelSizeX, pixelSizeY) is (0.08333333333333329, 0.08333333333333329)\n",
      "Loaded dataframe from /Users/jackieennis/Google Drive/Classes/Active Classes/Impact Lab/Carbon Students Project/Outputs/market_influence_5m.csv\n"
     ]
    }
   ],
   "source": [
    "# Market influence\n",
    "market_influence_5m = Dataset(metric=\"market_influence\",\n",
    "                             basefile=\"market_influence_5m\", \n",
    "                             path_to_raster=os.path.join(PEOPLE_DIR, 'market_influence_v2/mkt_infind_5m/hdr.adf'))"
   ]
  },
  {
   "cell_type": "markdown",
   "metadata": {},
   "source": [
    "#### POPULATION DENSITY"
   ]
  },
  {
   "cell_type": "code",
   "execution_count": 105,
   "metadata": {},
   "outputs": [
    {
     "name": "stdout",
     "output_type": "stream",
     "text": [
      "/Users/jackieennis/Google Drive/Classes/Active Classes/Impact Lab/Carbon Students Project/Outputs/pop_density_5m.tif\n",
      "Where (pixelSizeX, pixelSizeY) is (0.083333333333333, 0.083333333333333)\n",
      "Loading dataframe from/Users/jackieennis/Google Drive/Classes/Active Classes/Impact Lab/Carbon Students Project/Outputs/population_density_5m.csv\n",
      "Start time: 2019-06-12 06:54:55.206021\n"
     ]
    }
   ],
   "source": [
    "# Adjusted population density - TODO: redo for 30 arcsecs\n",
    "population_density_5m = Dataset(metric=\"population_density\",\n",
    "                                  basefile=\"population_density_5m\",\n",
    "                                  path_to_raster=os.path.join(\n",
    "                                      OUTPUT_DIR, \n",
    "                                      'pop_density_5m.tif'))"
   ]
  },
  {
   "cell_type": "code",
   "execution_count": 120,
   "metadata": {},
   "outputs": [
    {
     "data": {
      "text/html": [
       "<div>\n",
       "<style scoped>\n",
       "    .dataframe tbody tr th:only-of-type {\n",
       "        vertical-align: middle;\n",
       "    }\n",
       "\n",
       "    .dataframe tbody tr th {\n",
       "        vertical-align: top;\n",
       "    }\n",
       "\n",
       "    .dataframe thead th {\n",
       "        text-align: right;\n",
       "    }\n",
       "</style>\n",
       "<table border=\"1\" class=\"dataframe\">\n",
       "  <thead>\n",
       "    <tr style=\"text-align: right;\">\n",
       "      <th></th>\n",
       "      <th>index</th>\n",
       "      <th>lat</th>\n",
       "      <th>long</th>\n",
       "      <th>population_density</th>\n",
       "      <th>pixel_id</th>\n",
       "    </tr>\n",
       "  </thead>\n",
       "  <tbody>\n",
       "    <tr>\n",
       "      <th>332642</th>\n",
       "      <td>332642</td>\n",
       "      <td>-179.791667</td>\n",
       "      <td>83.541667</td>\n",
       "      <td>-3.402823e+38</td>\n",
       "      <td>-179.7917,83.5417</td>\n",
       "    </tr>\n",
       "  </tbody>\n",
       "</table>\n",
       "</div>"
      ],
      "text/plain": [
       "         index         lat       long  population_density           pixel_id\n",
       "332642  332642 -179.791667  83.541667       -3.402823e+38  -179.7917,83.5417"
      ]
     },
     "execution_count": 120,
     "metadata": {},
     "output_type": "execute_result"
    }
   ],
   "source": [
    "population_density_5m.dataframe.loc[population_density_5m.dataframe[\"pixel_id\"]==\"-179.7917,83.5417\"]"
   ]
  },
  {
   "cell_type": "markdown",
   "metadata": {},
   "source": [
    "#### NIGHTTIME LIGHTS"
   ]
  },
  {
   "cell_type": "code",
   "execution_count": 132,
   "metadata": {},
   "outputs": [
    {
     "name": "stdout",
     "output_type": "stream",
     "text": [
      "/Users/jackieennis/Google Drive/Classes/Active Classes/Impact Lab/Carbon Students Project/Outputs/nighttime_lights_5m.tif\n",
      "Where (pixelSizeX, pixelSizeY) is (0.083333333333333, 0.083333333333333)\n",
      "Now converting raster into XYZ format...start time: 2019-06-12 07:16:09.436949\n",
      "Saved new XYZ file to /Users/jackieennis/Google Drive/Classes/Active Classes/Impact Lab/Carbon Students Project/Outputs/nighttime_lights_5m.xyz\n",
      "Now reading file into dataframe...start time: 2019-06-12 07:16:41.749808\n",
      "Finally, saving dataframe to csv...\n",
      "Start time: 2019-06-12 07:17:02.405922\n"
     ]
    }
   ],
   "source": [
    "# Average nighttime lights\n",
    "nighttime_lights_5m = Dataset(metric=\"nighttime_lights\",\n",
    "                            basefile=\"nighttime_lights_5m\", \n",
    "                            path_to_raster=os.path.join(OUTPUT_DIR, \"nighttime_lights_5m.tif\"))"
   ]
  },
  {
   "cell_type": "code",
   "execution_count": 135,
   "metadata": {},
   "outputs": [
    {
     "data": {
      "text/html": [
       "<div>\n",
       "<style scoped>\n",
       "    .dataframe tbody tr th:only-of-type {\n",
       "        vertical-align: middle;\n",
       "    }\n",
       "\n",
       "    .dataframe tbody tr th {\n",
       "        vertical-align: top;\n",
       "    }\n",
       "\n",
       "    .dataframe thead th {\n",
       "        text-align: right;\n",
       "    }\n",
       "</style>\n",
       "<table border=\"1\" class=\"dataframe\">\n",
       "  <thead>\n",
       "    <tr style=\"text-align: right;\">\n",
       "      <th></th>\n",
       "      <th>lat</th>\n",
       "      <th>long</th>\n",
       "      <th>nighttime_lights</th>\n",
       "      <th>pixel_id</th>\n",
       "    </tr>\n",
       "    <tr>\n",
       "      <th>index</th>\n",
       "      <th></th>\n",
       "      <th></th>\n",
       "      <th></th>\n",
       "      <th></th>\n",
       "    </tr>\n",
       "  </thead>\n",
       "  <tbody>\n",
       "    <tr>\n",
       "      <th>263649</th>\n",
       "      <td>-179.458333</td>\n",
       "      <td>69.958333</td>\n",
       "      <td>0.0</td>\n",
       "      <td>-179.4583,69.9583</td>\n",
       "    </tr>\n",
       "  </tbody>\n",
       "</table>\n",
       "</div>"
      ],
      "text/plain": [
       "               lat       long  nighttime_lights           pixel_id\n",
       "index                                                             \n",
       "263649 -179.458333  69.958333               0.0  -179.4583,69.9583"
      ]
     },
     "execution_count": 135,
     "metadata": {},
     "output_type": "execute_result"
    }
   ],
   "source": [
    "nighttime_lights_5m.dataframe.loc[nighttime_lights_5m.dataframe['pixel_id']==\"-179.4583,69.9583\"]"
   ]
  },
  {
   "cell_type": "markdown",
   "metadata": {},
   "source": [
    "#### INFANT MORTALITY"
   ]
  },
  {
   "cell_type": "code",
   "execution_count": 108,
   "metadata": {},
   "outputs": [
    {
     "name": "stdout",
     "output_type": "stream",
     "text": [
      "/Users/jackieennis/Google Drive/Classes/Active Classes/Impact Lab/Carbon Students Project/Outputs/infant_mortality_5m.tif\n",
      "Where (pixelSizeX, pixelSizeY) is (0.083333333333333, 0.083333333333333)\n",
      "Now converting raster into XYZ format...start time: 2019-06-12 06:57:27.696878\n",
      "Saved new XYZ file to /Users/jackieennis/Google Drive/Classes/Active Classes/Impact Lab/Carbon Students Project/Outputs/infant_mortality_5m.xyz\n",
      "Now reading file into dataframe...start time: 2019-06-12 06:57:43.994182\n",
      "Finally, saving dataframe to csv...\n",
      "Start time: 2019-06-12 06:57:59.751699\n"
     ]
    }
   ],
   "source": [
    "# Infant mortality rates\n",
    "infant_mortality_5m = Dataset(metric='infant_mortality_rate',\n",
    "                                    basefile='infant_mortality_5m',\n",
    "                                    path_to_raster=os.path.join(OUTPUT_DIR, \"infant_mortality_5m.tif\"))"
   ]
  },
  {
   "cell_type": "markdown",
   "metadata": {},
   "source": [
    "#### SOIL WATER CAPACITY"
   ]
  },
  {
   "cell_type": "code",
   "execution_count": 165,
   "metadata": {},
   "outputs": [
    {
     "name": "stdout",
     "output_type": "stream",
     "text": [
      "/Users/jackieennis/Google Drive/Classes/Active Classes/Impact Lab/Carbon Students Project/Outputs/soil_water_5m.tif\n",
      "Where (pixelSizeX, pixelSizeY) is (0.083333333333333, 0.083333333333333)\n",
      "Now converting raster into XYZ format...start time: 2019-06-13 00:39:48.308239\n",
      "Saved new XYZ file to /Users/jackieennis/Google Drive/Classes/Active Classes/Impact Lab/Carbon Students Project/Outputs/soil_water_5m.xyz\n",
      "Now reading file into dataframe...start time: 2019-06-13 00:40:05.328705\n",
      "Finally, saving dataframe to csv...\n",
      "Start time: 2019-06-13 00:40:37.337436\n"
     ]
    }
   ],
   "source": [
    "# Soil water capacity (validation set)\n",
    "soil_water_5m = Dataset(metric='soil_water_capacity',\n",
    "                                    basefile='soil_water_5m',\n",
    "                                    path_to_raster=os.path.join(OUTPUT_DIR, \"soil_water_5m.tif\"))               "
   ]
  },
  {
   "cell_type": "markdown",
   "metadata": {},
   "source": [
    "#### PASTURES"
   ]
  },
  {
   "cell_type": "code",
   "execution_count": 159,
   "metadata": {},
   "outputs": [
    {
     "name": "stdout",
     "output_type": "stream",
     "text": [
      "/Users/jackieennis/Google Drive/Classes/Active Classes/Impact Lab/Carbon Students Project/Outputs/pasture_5m.tif\n",
      "Where (pixelSizeX, pixelSizeY) is (0.083333333333333, 0.083333333333333)\n",
      "Now converting raster into XYZ format...start time: 2019-06-12 13:25:44.165256\n",
      "Saved new XYZ file to /Users/jackieennis/Google Drive/Classes/Active Classes/Impact Lab/Carbon Students Project/Outputs/pasture_5m.xyz\n",
      "Now reading file into dataframe...start time: 2019-06-12 13:26:09.048785\n",
      "Finally, saving dataframe to csv...\n",
      "Start time: 2019-06-12 13:26:29.528527\n"
     ]
    }
   ],
   "source": [
    "# Pastures\n",
    "pastures_5m = Dataset(metric='pasture_land', basefile='pastures', \n",
    "                 path_to_raster=os.path.join(OUTPUT_DIR, \"pasture_5m.tif\"))               "
   ]
  },
  {
   "cell_type": "code",
   "execution_count": 160,
   "metadata": {},
   "outputs": [
    {
     "data": {
      "text/html": [
       "<div>\n",
       "<style scoped>\n",
       "    .dataframe tbody tr th:only-of-type {\n",
       "        vertical-align: middle;\n",
       "    }\n",
       "\n",
       "    .dataframe tbody tr th {\n",
       "        vertical-align: top;\n",
       "    }\n",
       "\n",
       "    .dataframe thead th {\n",
       "        text-align: right;\n",
       "    }\n",
       "</style>\n",
       "<table border=\"1\" class=\"dataframe\">\n",
       "  <thead>\n",
       "    <tr style=\"text-align: right;\">\n",
       "      <th></th>\n",
       "      <th>lat</th>\n",
       "      <th>long</th>\n",
       "      <th>pasture_land</th>\n",
       "      <th>pixel_id</th>\n",
       "    </tr>\n",
       "    <tr>\n",
       "      <th>index</th>\n",
       "      <th></th>\n",
       "      <th></th>\n",
       "      <th></th>\n",
       "      <th></th>\n",
       "    </tr>\n",
       "  </thead>\n",
       "  <tbody>\n",
       "    <tr>\n",
       "      <th>0</th>\n",
       "      <td>-180.041667</td>\n",
       "      <td>89.958333</td>\n",
       "      <td>-3.402823e+38</td>\n",
       "      <td>-180.0417,89.9583</td>\n",
       "    </tr>\n",
       "    <tr>\n",
       "      <th>1</th>\n",
       "      <td>-179.958333</td>\n",
       "      <td>89.958333</td>\n",
       "      <td>-3.402823e+38</td>\n",
       "      <td>-179.9583,89.9583</td>\n",
       "    </tr>\n",
       "    <tr>\n",
       "      <th>2</th>\n",
       "      <td>-179.875000</td>\n",
       "      <td>89.958333</td>\n",
       "      <td>-3.402823e+38</td>\n",
       "      <td>-179.875,89.9583</td>\n",
       "    </tr>\n",
       "    <tr>\n",
       "      <th>3</th>\n",
       "      <td>-179.791667</td>\n",
       "      <td>89.958333</td>\n",
       "      <td>-3.402823e+38</td>\n",
       "      <td>-179.7917,89.9583</td>\n",
       "    </tr>\n",
       "    <tr>\n",
       "      <th>4</th>\n",
       "      <td>-179.708333</td>\n",
       "      <td>89.958333</td>\n",
       "      <td>-3.402823e+38</td>\n",
       "      <td>-179.7083,89.9583</td>\n",
       "    </tr>\n",
       "  </tbody>\n",
       "</table>\n",
       "</div>"
      ],
      "text/plain": [
       "              lat       long  pasture_land           pixel_id\n",
       "index                                                        \n",
       "0     -180.041667  89.958333 -3.402823e+38  -180.0417,89.9583\n",
       "1     -179.958333  89.958333 -3.402823e+38  -179.9583,89.9583\n",
       "2     -179.875000  89.958333 -3.402823e+38   -179.875,89.9583\n",
       "3     -179.791667  89.958333 -3.402823e+38  -179.7917,89.9583\n",
       "4     -179.708333  89.958333 -3.402823e+38  -179.7083,89.9583"
      ]
     },
     "execution_count": 160,
     "metadata": {},
     "output_type": "execute_result"
    }
   ],
   "source": [
    "pastures_5m.dataframe.head()"
   ]
  },
  {
   "cell_type": "markdown",
   "metadata": {},
   "source": [
    "### Merging dataframes by resolution"
   ]
  },
  {
   "cell_type": "code",
   "execution_count": 77,
   "metadata": {},
   "outputs": [
    {
     "name": "stdout",
     "output_type": "stream",
     "text": [
      "Merging carbon with mins_to_market...\n",
      "Start time: 2019-06-12 01:02:10.237296\n"
     ]
    }
   ],
   "source": [
    "# Merge each 5m dataset back to carbon, starting with mins_to_market\n",
    "print_start_time(\"Merging carbon with mins_to_market...\")\n",
    "carbon_5m_merged = carbon_5m.dataframe.merge(market_dist_5m.dataframe, on=['pixel_id'], suffixes=('_carbon', 'mins_to_market'))\n"
   ]
  },
  {
   "cell_type": "code",
   "execution_count": 78,
   "metadata": {},
   "outputs": [
    {
     "name": "stdout",
     "output_type": "stream",
     "text": [
      "   index_carbon  lat_carbon  long_carbon  carbon           pixel_id  \\\n",
      "0             0 -179.958333    79.958333       0  -179.9583,79.9583   \n",
      "1             1 -179.875000    79.958333       0   -179.875,79.9583   \n",
      "2             2 -179.791667    79.958333       0  -179.7917,79.9583   \n",
      "3             3 -179.708333    79.958333       0  -179.7083,79.9583   \n",
      "4             4 -179.625000    79.958333       0   -179.625,79.9583   \n",
      "\n",
      "   indexmins_to_market  latmins_to_market  longmins_to_market  mins_to_market  \n",
      "0               518400        -179.958333           79.958333     -2147483647  \n",
      "1               518401        -179.875000           79.958333     -2147483647  \n",
      "2               518402        -179.791667           79.958333     -2147483647  \n",
      "3               518403        -179.708333           79.958333     -2147483647  \n",
      "4               518404        -179.625000           79.958333     -2147483647  \n",
      "Index(['index_carbon', 'lat_carbon', 'long_carbon', 'carbon', 'pixel_id',\n",
      "       'mins_to_market'],\n",
      "      dtype='object')\n"
     ]
    }
   ],
   "source": [
    "# Sanity check, then only keep necessary columns \n",
    "print(carbon_5m_merged.head())\n",
    "carbon_5m_merged = carbon_5m_merged[[\"index_carbon\", \"lat_carbon\", \"long_carbon\", \"carbon\", \"pixel_id\", \"mins_to_market\"]]\n",
    "print(carbon_5m_merged.columns)"
   ]
  },
  {
   "cell_type": "code",
   "execution_count": 79,
   "metadata": {},
   "outputs": [
    {
     "name": "stdout",
     "output_type": "stream",
     "text": [
      "Merging carbon with market_influence...\n",
      "Start time: 2019-06-12 01:02:32.293998\n",
      "   index_carbon  lat_carbon  long_carbon  carbon           pixel_id  \\\n",
      "0             0 -179.958333    79.958333       0  -179.9583,79.9583   \n",
      "1             1 -179.875000    79.958333       0   -179.875,79.9583   \n",
      "2             2 -179.791667    79.958333       0  -179.7917,79.9583   \n",
      "3             3 -179.708333    79.958333       0  -179.7083,79.9583   \n",
      "4             4 -179.625000    79.958333       0   -179.625,79.9583   \n",
      "\n",
      "   mins_to_market   index         lat       long  market_influence  \n",
      "0     -2147483647  518400 -179.958333  79.958333     -3.402823e+38  \n",
      "1     -2147483647  518401 -179.875000  79.958333     -3.402823e+38  \n",
      "2     -2147483647  518402 -179.791667  79.958333     -3.402823e+38  \n",
      "3     -2147483647  518403 -179.708333  79.958333     -3.402823e+38  \n",
      "4     -2147483647  518404 -179.625000  79.958333     -3.402823e+38  \n",
      "Index(['index_carbon', 'lat_carbon', 'long_carbon', 'carbon', 'pixel_id',\n",
      "       'mins_to_market', 'market_influence'],\n",
      "      dtype='object')\n"
     ]
    }
   ],
   "source": [
    "# Now add market_influence to merge\n",
    "print_start_time(\"Merging carbon with market_influence...\")\n",
    "carbon_5m_merged = carbon_5m_merged.merge(market_influence_5m.dataframe, on=['pixel_id'], suffixes=('_carbon', '_market_influence'))\n",
    "\n",
    "# Sanity check, then only keep necessary columns \n",
    "print(carbon_5m_merged.head())\n",
    "carbon_5m_merged = carbon_5m_merged[[\"index_carbon\", \"lat_carbon\", \n",
    "                                     \"long_carbon\", \"carbon\", \n",
    "                                     \"pixel_id\", \"mins_to_market\",\n",
    "                                    \"market_influence\"]]\n",
    "print(carbon_5m_merged.columns)\n"
   ]
  },
  {
   "cell_type": "code",
   "execution_count": 80,
   "metadata": {},
   "outputs": [
    {
     "name": "stdout",
     "output_type": "stream",
     "text": [
      "Merging carbon with population_density...\n",
      "Start time: 2019-06-12 01:02:51.346472\n",
      "   index_carbon  lat_carbon  long_carbon  carbon           pixel_id  \\\n",
      "0             0 -179.958333    79.958333       0  -179.9583,79.9583   \n",
      "1             1 -179.875000    79.958333       0   -179.875,79.9583   \n",
      "2             2 -179.791667    79.958333       0  -179.7917,79.9583   \n",
      "3             3 -179.708333    79.958333       0  -179.7083,79.9583   \n",
      "4             4 -179.625000    79.958333       0   -179.625,79.9583   \n",
      "\n",
      "   mins_to_market  market_influence   index         lat       long  \\\n",
      "0     -2147483647     -3.402823e+38  518400 -179.958333  79.958333   \n",
      "1     -2147483647     -3.402823e+38  518401 -179.875000  79.958333   \n",
      "2     -2147483647     -3.402823e+38  518402 -179.791667  79.958333   \n",
      "3     -2147483647     -3.402823e+38  518403 -179.708333  79.958333   \n",
      "4     -2147483647     -3.402823e+38  518404 -179.625000  79.958333   \n",
      "\n",
      "   population_density  \n",
      "0       -3.402823e+38  \n",
      "1       -3.402823e+38  \n",
      "2       -3.402823e+38  \n",
      "3       -3.402823e+38  \n",
      "4       -3.402823e+38  \n",
      "Index(['index_carbon', 'lat_carbon', 'long_carbon', 'carbon', 'pixel_id',\n",
      "       'mins_to_market', 'market_influence', 'population_density'],\n",
      "      dtype='object')\n"
     ]
    }
   ],
   "source": [
    "# Now add population_density to merge\n",
    "print_start_time(\"Merging carbon with population_density...\")\n",
    "carbon_5m_merged = carbon_5m_merged.merge(population_density_5m.dataframe, on=['pixel_id'], suffixes=('_carbon', '_pop_density'))\n",
    "\n",
    "# Sanity check, then only keep necessary columns \n",
    "print(carbon_5m_merged.head())\n",
    "carbon_5m_merged = carbon_5m_merged[[\"index_carbon\", \"lat_carbon\", \n",
    "                                     \"long_carbon\", \"carbon\", \n",
    "                                     \"pixel_id\", \"mins_to_market\",\n",
    "                                    \"market_influence\", \"population_density\"]]\n",
    "print(carbon_5m_merged.columns)"
   ]
  },
  {
   "cell_type": "code",
   "execution_count": 128,
   "metadata": {},
   "outputs": [
    {
     "name": "stdout",
     "output_type": "stream",
     "text": [
      "   index_carbon  lat_carbon  long_carbon  carbon           pixel_id  \\\n",
      "0             0 -179.958333    79.958333       0  -179.9583,79.9583   \n",
      "1             1 -179.875000    79.958333       0   -179.875,79.9583   \n",
      "2             2 -179.791667    79.958333       0  -179.7917,79.9583   \n",
      "3             3 -179.708333    79.958333       0  -179.7083,79.9583   \n",
      "4             4 -179.625000    79.958333       0   -179.625,79.9583   \n",
      "\n",
      "   mins_to_market  market_influence  population_density         lat  \\\n",
      "0     -2147483647     -3.402823e+38       -3.402823e+38 -179.958333   \n",
      "1     -2147483647     -3.402823e+38       -3.402823e+38 -179.875000   \n",
      "2     -2147483647     -3.402823e+38       -3.402823e+38 -179.791667   \n",
      "3     -2147483647     -3.402823e+38       -3.402823e+38 -179.708333   \n",
      "4     -2147483647     -3.402823e+38       -3.402823e+38 -179.625000   \n",
      "\n",
      "        long  infant_mortality_rate  \n",
      "0  79.958333                   -inf  \n",
      "1  79.958333                   -inf  \n",
      "2  79.958333                   -inf  \n",
      "3  79.958333                   -inf  \n",
      "4  79.958333                   -inf  \n",
      "Index(['index_carbon', 'lat_carbon', 'long_carbon', 'carbon', 'pixel_id',\n",
      "       'mins_to_market', 'market_influence', 'population_density',\n",
      "       'infant_mortality_rate'],\n",
      "      dtype='object')\n"
     ]
    }
   ],
   "source": [
    "# Now add infant_mortality to merge\n",
    "print_start_time(\"Merging carbon with infant_mortality...\")\n",
    "carbon_5m_merged = carbon_5m_merged.merge(infant_mortality_5m.dataframe, on=['pixel_id'], suffixes=('_carbon', '_infant_mort'))\n",
    "\n",
    "# Sanity check, then only keep necessary columns \n",
    "print(carbon_5m_merged.head())\n",
    "carbon_5m_merged = carbon_5m_merged[[\"index_carbon\", \"lat_carbon\", \n",
    "                                     \"long_carbon\", \"carbon\", \n",
    "                                     \"pixel_id\", \"mins_to_market\",\n",
    "                                    \"market_influence\", \"population_density\",\n",
    "                                    \"infant_mortality_rate\"]]\n",
    "print(carbon_5m_merged.columns)"
   ]
  },
  {
   "cell_type": "code",
   "execution_count": 137,
   "metadata": {},
   "outputs": [
    {
     "name": "stdout",
     "output_type": "stream",
     "text": [
      "Merging carbon with nighttime_lights...\n",
      "Start time: 2019-06-12 07:22:49.555733\n",
      "   index_carbon  lat_carbon  long_carbon  carbon           pixel_id  \\\n",
      "0        254880 -179.958333    75.041667       0  -179.9583,75.0417   \n",
      "1        254881 -179.875000    75.041667       0   -179.875,75.0417   \n",
      "2        254882 -179.791667    75.041667       0  -179.7917,75.0417   \n",
      "3        254883 -179.708333    75.041667       0  -179.7083,75.0417   \n",
      "4        254884 -179.625000    75.041667       0   -179.625,75.0417   \n",
      "\n",
      "   mins_to_market  market_influence  population_density  \\\n",
      "0     -2147483647     -3.402823e+38       -3.402823e+38   \n",
      "1     -2147483647     -3.402823e+38       -3.402823e+38   \n",
      "2     -2147483647     -3.402823e+38       -3.402823e+38   \n",
      "3     -2147483647     -3.402823e+38       -3.402823e+38   \n",
      "4     -2147483647     -3.402823e+38       -3.402823e+38   \n",
      "\n",
      "   infant_mortality_rate         lat       long  nighttime_lights  \n",
      "0                   -inf -179.958333  75.041667               0.0  \n",
      "1                   -inf -179.875000  75.041667               0.0  \n",
      "2                   -inf -179.791667  75.041667               0.0  \n",
      "3                   -inf -179.708333  75.041667               0.0  \n",
      "4                   -inf -179.625000  75.041667               0.0  \n",
      "Index(['index_carbon', 'lat_carbon', 'long_carbon', 'carbon', 'pixel_id',\n",
      "       'mins_to_market', 'market_influence', 'population_density',\n",
      "       'nighttime_lights', 'infant_mortality_rate'],\n",
      "      dtype='object')\n"
     ]
    }
   ],
   "source": [
    "# Now add nighttime_lights to merge\n",
    "print_start_time(\"Merging carbon with nighttime_lights...\")\n",
    "carbon_5m_merged = carbon_5m_merged.merge(nighttime_lights_5m.dataframe, on=['pixel_id'], suffixes=('_carbon', '_nighttime_lights'))\n",
    "\n",
    "# Sanity check, then only keep necessary columns \n",
    "print(carbon_5m_merged.head())\n",
    "carbon_5m_merged = carbon_5m_merged[[\"index_carbon\", \"lat_carbon\", \n",
    "                                     \"long_carbon\", \"carbon\", \n",
    "                                     \"pixel_id\", \"mins_to_market\",\n",
    "                                    \"market_influence\", \"population_density\",\n",
    "                                    \"nighttime_lights\", \"infant_mortality_rate\"]]\n",
    "print(carbon_5m_merged.columns)"
   ]
  },
  {
   "cell_type": "code",
   "execution_count": 161,
   "metadata": {},
   "outputs": [
    {
     "name": "stdout",
     "output_type": "stream",
     "text": [
      "Merging carbon with pastures...\n",
      "Start time: 2019-06-12 13:35:53.736538\n",
      "   index_carbon  lat_carbon  long_carbon  carbon           pixel_id  \\\n",
      "0        254880 -179.958333    75.041667       0  -179.9583,75.0417   \n",
      "1        254881 -179.875000    75.041667       0   -179.875,75.0417   \n",
      "2        254882 -179.791667    75.041667       0  -179.7917,75.0417   \n",
      "3        254883 -179.708333    75.041667       0  -179.7083,75.0417   \n",
      "4        254884 -179.625000    75.041667       0   -179.625,75.0417   \n",
      "\n",
      "   mins_to_market  market_influence  population_density  nighttime_lights  \\\n",
      "0     -2147483647     -3.402823e+38       -3.402823e+38               0.0   \n",
      "1     -2147483647     -3.402823e+38       -3.402823e+38               0.0   \n",
      "2     -2147483647     -3.402823e+38       -3.402823e+38               0.0   \n",
      "3     -2147483647     -3.402823e+38       -3.402823e+38               0.0   \n",
      "4     -2147483647     -3.402823e+38       -3.402823e+38               0.0   \n",
      "\n",
      "   infant_mortality_rate  tree_density  GDP         lat       long  \\\n",
      "0                   -inf          -inf   -9 -179.958333  75.041667   \n",
      "1                   -inf          -inf   -9 -179.875000  75.041667   \n",
      "2                   -inf          -inf   -9 -179.791667  75.041667   \n",
      "3                   -inf          -inf   -9 -179.708333  75.041667   \n",
      "4                   -inf          -inf   -9 -179.625000  75.041667   \n",
      "\n",
      "   pasture_land  \n",
      "0 -3.402823e+38  \n",
      "1 -3.402823e+38  \n",
      "2 -3.402823e+38  \n",
      "3 -3.402823e+38  \n",
      "4 -3.402823e+38  \n",
      "Index(['index_carbon', 'lat_carbon', 'long_carbon', 'carbon', 'pixel_id',\n",
      "       'mins_to_market', 'market_influence', 'population_density',\n",
      "       'nighttime_lights', 'infant_mortality_rate', 'tree_density',\n",
      "       'pasture_land'],\n",
      "      dtype='object')\n"
     ]
    }
   ],
   "source": [
    "# Now add pastures to merge\n",
    "print_start_time(\"Merging carbon with pastures...\")\n",
    "carbon_5m_merged = carbon_5m_merged.merge(pastures_5m.dataframe, on=['pixel_id'], suffixes=('_carbon', '_pasture'))\n",
    "\n",
    "# Sanity check, then only keep necessary columns \n",
    "print(carbon_5m_merged.head())\n",
    "carbon_5m_merged = carbon_5m_merged[[\"index_carbon\", \"lat_carbon\", \n",
    "                                     \"long_carbon\", \"carbon\", \n",
    "                                     \"pixel_id\", \"mins_to_market\",\n",
    "                                    \"market_influence\", \"population_density\",\n",
    "                                    \"nighttime_lights\", \"infant_mortality_rate\",\n",
    "                                    \"pasture_land\"]]\n",
    "print(carbon_5m_merged.columns)"
   ]
  },
  {
   "cell_type": "code",
   "execution_count": 169,
   "metadata": {},
   "outputs": [
    {
     "name": "stdout",
     "output_type": "stream",
     "text": [
      "Merging carbon with soil_water_capacity...\n",
      "Start time: 2019-06-13 00:44:13.540333\n",
      "   index_carbon  lat_carbon  long_carbon  carbon           pixel_id  \\\n",
      "0        254880 -179.958333    75.041667       0  -179.9583,75.0417   \n",
      "1        254881 -179.875000    75.041667       0   -179.875,75.0417   \n",
      "2        254882 -179.791667    75.041667       0  -179.7917,75.0417   \n",
      "3        254883 -179.708333    75.041667       0  -179.7083,75.0417   \n",
      "4        254884 -179.625000    75.041667       0   -179.625,75.0417   \n",
      "\n",
      "   mins_to_market  market_influence  population_density  nighttime_lights  \\\n",
      "0     -2147483647     -3.402823e+38       -3.402823e+38               0.0   \n",
      "1     -2147483647     -3.402823e+38       -3.402823e+38               0.0   \n",
      "2     -2147483647     -3.402823e+38       -3.402823e+38               0.0   \n",
      "3     -2147483647     -3.402823e+38       -3.402823e+38               0.0   \n",
      "4     -2147483647     -3.402823e+38       -3.402823e+38               0.0   \n",
      "\n",
      "   infant_mortality_rate  tree_density  pasture_land         lat       long  \\\n",
      "0                   -inf          -inf -3.402823e+38 -179.958333  75.041667   \n",
      "1                   -inf          -inf -3.402823e+38 -179.875000  75.041667   \n",
      "2                   -inf          -inf -3.402823e+38 -179.791667  75.041667   \n",
      "3                   -inf          -inf -3.402823e+38 -179.708333  75.041667   \n",
      "4                   -inf          -inf -3.402823e+38 -179.625000  75.041667   \n",
      "\n",
      "   soil_water_capacity  \n",
      "0                  0.0  \n",
      "1                  0.0  \n",
      "2                  0.0  \n",
      "3                  0.0  \n",
      "4                  0.0  \n",
      "Index(['index_carbon', 'lat_carbon', 'long_carbon', 'carbon', 'pixel_id',\n",
      "       'mins_to_market', 'market_influence', 'population_density',\n",
      "       'nighttime_lights', 'infant_mortality_rate', 'pasture_land',\n",
      "       'soil_water_capacity'],\n",
      "      dtype='object')\n"
     ]
    }
   ],
   "source": [
    "# Now add soil_water_capacity to merge\n",
    "print_start_time(\"Merging carbon with soil_water_capacity...\")\n",
    "carbon_5m_merged = carbon_5m_merged.merge(soil_water_5m.dataframe, on=['pixel_id'], suffixes=('_carbon', '_soil'))\n",
    "\n",
    "# Sanity check, then only keep necessary columns \n",
    "print(carbon_5m_merged.head())\n",
    "carbon_5m_merged = carbon_5m_merged[[\"index_carbon\", \"lat_carbon\", \n",
    "                                     \"long_carbon\", \"carbon\", \n",
    "                                     \"pixel_id\", \"mins_to_market\",\n",
    "                                    \"market_influence\", \"population_density\",\n",
    "                                    \"nighttime_lights\", \"infant_mortality_rate\",\n",
    "                                     \"pasture_land\", \"soil_water_capacity\"]]\n",
    "print(carbon_5m_merged.columns)"
   ]
  },
  {
   "cell_type": "code",
   "execution_count": 170,
   "metadata": {},
   "outputs": [
    {
     "name": "stdout",
     "output_type": "stream",
     "text": [
      "Saving to CSV...\n",
      "Start time: 2019-06-13 00:45:34.568641\n"
     ]
    },
    {
     "data": {
      "text/html": [
       "<div>\n",
       "<style scoped>\n",
       "    .dataframe tbody tr th:only-of-type {\n",
       "        vertical-align: middle;\n",
       "    }\n",
       "\n",
       "    .dataframe tbody tr th {\n",
       "        vertical-align: top;\n",
       "    }\n",
       "\n",
       "    .dataframe thead th {\n",
       "        text-align: right;\n",
       "    }\n",
       "</style>\n",
       "<table border=\"1\" class=\"dataframe\">\n",
       "  <thead>\n",
       "    <tr style=\"text-align: right;\">\n",
       "      <th></th>\n",
       "      <th>index_carbon</th>\n",
       "      <th>lat_carbon</th>\n",
       "      <th>long_carbon</th>\n",
       "      <th>carbon</th>\n",
       "      <th>pixel_id</th>\n",
       "      <th>mins_to_market</th>\n",
       "      <th>market_influence</th>\n",
       "      <th>population_density</th>\n",
       "      <th>nighttime_lights</th>\n",
       "      <th>infant_mortality_rate</th>\n",
       "      <th>pasture_land</th>\n",
       "      <th>soil_water_capacity</th>\n",
       "    </tr>\n",
       "  </thead>\n",
       "  <tbody>\n",
       "    <tr>\n",
       "      <th>0</th>\n",
       "      <td>254880</td>\n",
       "      <td>-179.958333</td>\n",
       "      <td>75.041667</td>\n",
       "      <td>0</td>\n",
       "      <td>-179.9583,75.0417</td>\n",
       "      <td>-2147483647</td>\n",
       "      <td>-3.402823e+38</td>\n",
       "      <td>-3.402823e+38</td>\n",
       "      <td>0.0</td>\n",
       "      <td>-inf</td>\n",
       "      <td>-3.402823e+38</td>\n",
       "      <td>0.0</td>\n",
       "    </tr>\n",
       "    <tr>\n",
       "      <th>1</th>\n",
       "      <td>254881</td>\n",
       "      <td>-179.875000</td>\n",
       "      <td>75.041667</td>\n",
       "      <td>0</td>\n",
       "      <td>-179.875,75.0417</td>\n",
       "      <td>-2147483647</td>\n",
       "      <td>-3.402823e+38</td>\n",
       "      <td>-3.402823e+38</td>\n",
       "      <td>0.0</td>\n",
       "      <td>-inf</td>\n",
       "      <td>-3.402823e+38</td>\n",
       "      <td>0.0</td>\n",
       "    </tr>\n",
       "    <tr>\n",
       "      <th>2</th>\n",
       "      <td>254882</td>\n",
       "      <td>-179.791667</td>\n",
       "      <td>75.041667</td>\n",
       "      <td>0</td>\n",
       "      <td>-179.7917,75.0417</td>\n",
       "      <td>-2147483647</td>\n",
       "      <td>-3.402823e+38</td>\n",
       "      <td>-3.402823e+38</td>\n",
       "      <td>0.0</td>\n",
       "      <td>-inf</td>\n",
       "      <td>-3.402823e+38</td>\n",
       "      <td>0.0</td>\n",
       "    </tr>\n",
       "    <tr>\n",
       "      <th>3</th>\n",
       "      <td>254883</td>\n",
       "      <td>-179.708333</td>\n",
       "      <td>75.041667</td>\n",
       "      <td>0</td>\n",
       "      <td>-179.7083,75.0417</td>\n",
       "      <td>-2147483647</td>\n",
       "      <td>-3.402823e+38</td>\n",
       "      <td>-3.402823e+38</td>\n",
       "      <td>0.0</td>\n",
       "      <td>-inf</td>\n",
       "      <td>-3.402823e+38</td>\n",
       "      <td>0.0</td>\n",
       "    </tr>\n",
       "    <tr>\n",
       "      <th>4</th>\n",
       "      <td>254884</td>\n",
       "      <td>-179.625000</td>\n",
       "      <td>75.041667</td>\n",
       "      <td>0</td>\n",
       "      <td>-179.625,75.0417</td>\n",
       "      <td>-2147483647</td>\n",
       "      <td>-3.402823e+38</td>\n",
       "      <td>-3.402823e+38</td>\n",
       "      <td>0.0</td>\n",
       "      <td>-inf</td>\n",
       "      <td>-3.402823e+38</td>\n",
       "      <td>0.0</td>\n",
       "    </tr>\n",
       "  </tbody>\n",
       "</table>\n",
       "</div>"
      ],
      "text/plain": [
       "   index_carbon  lat_carbon  long_carbon  carbon           pixel_id  \\\n",
       "0        254880 -179.958333    75.041667       0  -179.9583,75.0417   \n",
       "1        254881 -179.875000    75.041667       0   -179.875,75.0417   \n",
       "2        254882 -179.791667    75.041667       0  -179.7917,75.0417   \n",
       "3        254883 -179.708333    75.041667       0  -179.7083,75.0417   \n",
       "4        254884 -179.625000    75.041667       0   -179.625,75.0417   \n",
       "\n",
       "   mins_to_market  market_influence  population_density  nighttime_lights  \\\n",
       "0     -2147483647     -3.402823e+38       -3.402823e+38               0.0   \n",
       "1     -2147483647     -3.402823e+38       -3.402823e+38               0.0   \n",
       "2     -2147483647     -3.402823e+38       -3.402823e+38               0.0   \n",
       "3     -2147483647     -3.402823e+38       -3.402823e+38               0.0   \n",
       "4     -2147483647     -3.402823e+38       -3.402823e+38               0.0   \n",
       "\n",
       "   infant_mortality_rate  pasture_land  soil_water_capacity  \n",
       "0                   -inf -3.402823e+38                  0.0  \n",
       "1                   -inf -3.402823e+38                  0.0  \n",
       "2                   -inf -3.402823e+38                  0.0  \n",
       "3                   -inf -3.402823e+38                  0.0  \n",
       "4                   -inf -3.402823e+38                  0.0  "
      ]
     },
     "execution_count": 170,
     "metadata": {},
     "output_type": "execute_result"
    }
   ],
   "source": [
    "# Save newly merged dataframes to csv\n",
    "print_start_time(\"Saving to CSV...\")\n",
    "\n",
    "carbon_5m_merged.to_csv(os.path.join(OUTPUT_DIR, \"carbon_5m_merged.csv\"))\n",
    "carbon_5m_merged.head()"
   ]
  },
  {
   "cell_type": "code",
   "execution_count": null,
   "metadata": {},
   "outputs": [],
   "source": []
  }
 ],
 "metadata": {
  "kernelspec": {
   "display_name": "Python 3",
   "language": "python",
   "name": "python3"
  },
  "language_info": {
   "codemirror_mode": {
    "name": "ipython",
    "version": 3
   },
   "file_extension": ".py",
   "mimetype": "text/x-python",
   "name": "python",
   "nbconvert_exporter": "python",
   "pygments_lexer": "ipython3",
   "version": "3.6.8"
  }
 },
 "nbformat": 4,
 "nbformat_minor": 2
}
