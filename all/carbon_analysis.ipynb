{
 "cells": [
  {
   "cell_type": "code",
   "execution_count": 1,
   "metadata": {},
   "outputs": [],
   "source": [
    "import sys\n",
    "import os\n",
    "import subprocess\n",
    "import datetime\n",
    "import pandas as pd\n",
    "import numpy as np\n",
    "import pygeoprocessing\n",
    "import matplotlib.pyplot as plt\n",
    "from osgeo import gdal"
   ]
  },
  {
   "cell_type": "markdown",
   "metadata": {},
   "source": [
    "## Relationship analysis - correlations, plots, breakdowns\n",
    "### Dataframe cleaning & preprocessing"
   ]
  },
  {
   "cell_type": "code",
   "execution_count": null,
   "metadata": {},
   "outputs": [],
   "source": [
    "# Load in previously saved dataframes\n",
    "carbon_access_merged = pd.read_csv(carbon_access_csv_path)\n",
    "carbon_influence_merged = pd.read_csv(carbon_influence_csv_path)\n",
    "carbon_population_merged = pd.read_csv(carbon_population_csv_path)"
   ]
  },
  {
   "cell_type": "code",
   "execution_count": null,
   "metadata": {},
   "outputs": [],
   "source": [
    "carbon_access_merged.head()"
   ]
  },
  {
   "cell_type": "markdown",
   "metadata": {},
   "source": [
    "Clean up null or incoherent values."
   ]
  },
  {
   "cell_type": "code",
   "execution_count": null,
   "metadata": {},
   "outputs": [],
   "source": [
    "print(\"Number of records before cleaning:\", len(carbon_access_merged))\n",
    "\n",
    "carbon_access_merged.drop(\n",
    "    carbon_access_merged[carbon_access_merged['value'] < 0].index, \n",
    "    inplace=True)\n",
    "\n",
    "carbon_access_merged.drop(\n",
    "    carbon_access_merged[carbon_access_merged['carbon'] < 50].index, \n",
    "    inplace=True)\n",
    "\n",
    "carbon_access_merged.head()\n",
    "\n",
    "print(\"Number of records after cleaning:\", len(carbon_access_merged))"
   ]
  },
  {
   "cell_type": "markdown",
   "metadata": {},
   "source": [
    "Sanity check - are there any places where the merged dataframes do not align? Do coherent values exist?"
   ]
  },
  {
   "cell_type": "code",
   "execution_count": null,
   "metadata": {},
   "outputs": [],
   "source": [
    "# Check for rows where latitudes do not match\n",
    "diff = carbon_access_merged.loc[\n",
    "    (carbon_access_merged['long_carbon'].astype(int) != \n",
    "     carbon_access_merged['long_mins'].astype(int)) &\n",
    "    (carbon_access_merged['lat_carbon'].astype(int) != \n",
    "     carbon_access_merged['lat_mins'].astype(int))]\n",
    "print(len(diff))\n",
    "\n",
    "# Check that non-zero values exist\n",
    "real_vals = carbon_access_merged.loc[\n",
    "    (carbon_access_merged['carbon'] > 0) &\n",
    "    (carbon_access_merged['value'] > 0)]\n",
    "real_vals.head()"
   ]
  },
  {
   "cell_type": "markdown",
   "metadata": {},
   "source": [
    "### Looking for correlations"
   ]
  },
  {
   "cell_type": "code",
   "execution_count": null,
   "metadata": {},
   "outputs": [],
   "source": [
    "carbon_access_merged"
   ]
  },
  {
   "cell_type": "markdown",
   "metadata": {},
   "source": [
    "Is the correlation between covariates better than random?"
   ]
  },
  {
   "cell_type": "code",
   "execution_count": null,
   "metadata": {},
   "outputs": [],
   "source": [
    "# Is the correlation better than random?\n",
    "carbon_access_merged['rand'] = np.random.random(carbon_access_merged.shape[0])\n",
    "column_corr = carbon_access_merged['carbon'].corr(carbon_access_merged['value'])\n",
    "random_corr_carbon = carbon_access_merged['carbon'].corr(carbon_access_merged['rand'])\n",
    "random_corr_value = carbon_access_merged['value'].corr(carbon_access_merged['rand'])\n",
    "print(\"Correlation between carbon and population density:\", column_corr, \n",
    "      \"\\n Correlation between carbon and random:\", random_corr_carbon, \n",
    "      \"\\n Correlation between population density and random:\", random_corr_value)"
   ]
  },
  {
   "cell_type": "code",
   "execution_count": null,
   "metadata": {},
   "outputs": [],
   "source": [
    "# Print correlation matrix\n",
    "import seaborn as sns\n",
    "corr = carbon_access_merged.corr()\n",
    "sns.heatmap(corr, \n",
    "            xticklabels=corr.columns.values,\n",
    "            yticklabels=corr.columns.values)"
   ]
  },
  {
   "cell_type": "markdown",
   "metadata": {},
   "source": [
    "## Plotting covariate relationships"
   ]
  },
  {
   "cell_type": "code",
   "execution_count": null,
   "metadata": {},
   "outputs": [],
   "source": [
    "import matplotlib.pyplot as plt\n",
    "plt.scatter(np.log(carbon_access_merged['carbon']), \n",
    "            carbon_access_merged['value'], \n",
    "            s=1)\n",
    "plt.title(\"Carbon and minutes to market\")\n",
    "plt.ylabel(\"Minutes to market\")\n",
    "plt.xlabel(\"ABG biomass\")\n",
    "plt.figsize=(20,20)\n",
    "plt.show()"
   ]
  },
  {
   "cell_type": "code",
   "execution_count": null,
   "metadata": {},
   "outputs": [],
   "source": [
    "import seaborn as sns\n",
    "print_start_time(\"Plotting KDE...\")\n",
    "g = sns.jointplot(\"carbon\", \"value\", data=carbon_access_merged, kind=\"kde\", space=0, color=\"g\")"
   ]
  },
  {
   "cell_type": "code",
   "execution_count": null,
   "metadata": {},
   "outputs": [],
   "source": []
  }
 ],
 "metadata": {
  "kernelspec": {
   "display_name": "Python 3",
   "language": "python",
   "name": "python3"
  },
  "language_info": {
   "codemirror_mode": {
    "name": "ipython",
    "version": 3
   },
   "file_extension": ".py",
   "mimetype": "text/x-python",
   "name": "python",
   "nbconvert_exporter": "python",
   "pygments_lexer": "ipython3",
   "version": "3.6.8"
  }
 },
 "nbformat": 4,
 "nbformat_minor": 2
}
